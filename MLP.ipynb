{
 "cells": [
  {
   "cell_type": "markdown",
   "id": "06b98bcc",
   "metadata": {},
   "source": [
    "# Multilayer Perceptron (MLP)"
   ]
  },
  {
   "cell_type": "markdown",
   "id": "7cb553b6",
   "metadata": {},
   "source": [
    "A multi-layer perceptron (MLP) has the same structure of a single layer perceptron with one or more hidden layers. It is a neural network where the mapping between inputs and output is non-linear. The backpropagation algorithm consists of two phases: the forward phase where the activations are propagated from the input to the output layer, and the backward phase, where the error between the observed actual and the requested nominal value in the output layer is propagated backwards in order to modify the weights and bias values."
   ]
  },
  {
   "cell_type": "markdown",
   "id": "1d2989de",
   "metadata": {},
   "source": [
    "#### Load dataset"
   ]
  },
  {
   "cell_type": "code",
   "execution_count": 1,
   "id": "9258ba5e",
   "metadata": {},
   "outputs": [
    {
     "data": {
      "text/html": [
       "<div>\n",
       "<style scoped>\n",
       "    .dataframe tbody tr th:only-of-type {\n",
       "        vertical-align: middle;\n",
       "    }\n",
       "\n",
       "    .dataframe tbody tr th {\n",
       "        vertical-align: top;\n",
       "    }\n",
       "\n",
       "    .dataframe thead th {\n",
       "        text-align: right;\n",
       "    }\n",
       "</style>\n",
       "<table border=\"1\" class=\"dataframe\">\n",
       "  <thead>\n",
       "    <tr style=\"text-align: right;\">\n",
       "      <th></th>\n",
       "      <th>satisfaction_level</th>\n",
       "      <th>last_evaluation</th>\n",
       "      <th>number_project</th>\n",
       "      <th>average_montly_hours</th>\n",
       "      <th>time_spend_company</th>\n",
       "      <th>Work_accident</th>\n",
       "      <th>left</th>\n",
       "      <th>promotion_last_5years</th>\n",
       "      <th>sales</th>\n",
       "      <th>salary</th>\n",
       "    </tr>\n",
       "  </thead>\n",
       "  <tbody>\n",
       "    <tr>\n",
       "      <th>0</th>\n",
       "      <td>0.38</td>\n",
       "      <td>0.53</td>\n",
       "      <td>2</td>\n",
       "      <td>157</td>\n",
       "      <td>3</td>\n",
       "      <td>0</td>\n",
       "      <td>1</td>\n",
       "      <td>0</td>\n",
       "      <td>sales</td>\n",
       "      <td>low</td>\n",
       "    </tr>\n",
       "    <tr>\n",
       "      <th>1</th>\n",
       "      <td>0.80</td>\n",
       "      <td>0.86</td>\n",
       "      <td>5</td>\n",
       "      <td>262</td>\n",
       "      <td>6</td>\n",
       "      <td>0</td>\n",
       "      <td>1</td>\n",
       "      <td>0</td>\n",
       "      <td>sales</td>\n",
       "      <td>medium</td>\n",
       "    </tr>\n",
       "    <tr>\n",
       "      <th>2</th>\n",
       "      <td>0.11</td>\n",
       "      <td>0.88</td>\n",
       "      <td>7</td>\n",
       "      <td>272</td>\n",
       "      <td>4</td>\n",
       "      <td>0</td>\n",
       "      <td>1</td>\n",
       "      <td>0</td>\n",
       "      <td>sales</td>\n",
       "      <td>medium</td>\n",
       "    </tr>\n",
       "    <tr>\n",
       "      <th>3</th>\n",
       "      <td>0.72</td>\n",
       "      <td>0.87</td>\n",
       "      <td>5</td>\n",
       "      <td>223</td>\n",
       "      <td>5</td>\n",
       "      <td>0</td>\n",
       "      <td>1</td>\n",
       "      <td>0</td>\n",
       "      <td>sales</td>\n",
       "      <td>low</td>\n",
       "    </tr>\n",
       "    <tr>\n",
       "      <th>4</th>\n",
       "      <td>0.37</td>\n",
       "      <td>0.52</td>\n",
       "      <td>2</td>\n",
       "      <td>159</td>\n",
       "      <td>3</td>\n",
       "      <td>0</td>\n",
       "      <td>1</td>\n",
       "      <td>0</td>\n",
       "      <td>sales</td>\n",
       "      <td>low</td>\n",
       "    </tr>\n",
       "  </tbody>\n",
       "</table>\n",
       "</div>"
      ],
      "text/plain": [
       "   satisfaction_level  last_evaluation  number_project  average_montly_hours  \\\n",
       "0                0.38             0.53               2                   157   \n",
       "1                0.80             0.86               5                   262   \n",
       "2                0.11             0.88               7                   272   \n",
       "3                0.72             0.87               5                   223   \n",
       "4                0.37             0.52               2                   159   \n",
       "\n",
       "   time_spend_company  Work_accident  left  promotion_last_5years  sales  \\\n",
       "0                   3              0     1                      0  sales   \n",
       "1                   6              0     1                      0  sales   \n",
       "2                   4              0     1                      0  sales   \n",
       "3                   5              0     1                      0  sales   \n",
       "4                   3              0     1                      0  sales   \n",
       "\n",
       "   salary  \n",
       "0     low  \n",
       "1  medium  \n",
       "2  medium  \n",
       "3     low  \n",
       "4     low  "
      ]
     },
     "execution_count": 1,
     "metadata": {},
     "output_type": "execute_result"
    }
   ],
   "source": [
    "import numpy as np\n",
    "import pandas as pd\n",
    "\n",
    "# Load data\n",
    "data=pd.read_csv('HR_comma_sep.csv')\n",
    "\n",
    "data.head()"
   ]
  },
  {
   "cell_type": "markdown",
   "id": "7640ce9d",
   "metadata": {},
   "source": [
    "#### Preprocessing: Label Encoding"
   ]
  },
  {
   "cell_type": "code",
   "execution_count": 4,
   "id": "d0bc30fa",
   "metadata": {},
   "outputs": [],
   "source": [
    "# Import LabelEncoder\n",
    "from sklearn import preprocessing\n",
    "\n",
    "# Creating labelEncoder\n",
    "le = preprocessing.LabelEncoder()\n",
    "\n",
    "# Converting string labels into numbers.\n",
    "data['salary']=le.fit_transform(data['salary'])\n"
   ]
  },
  {
   "cell_type": "markdown",
   "id": "98cf65fe",
   "metadata": {},
   "source": [
    "#### Split the dataset"
   ]
  },
  {
   "cell_type": "code",
   "execution_count": 5,
   "id": "9a59c774",
   "metadata": {},
   "outputs": [],
   "source": [
    "# Spliting data into Feature and\n",
    "X=data[['satisfaction_level', 'last_evaluation', 'number_project',\n",
    "        'average_montly_hours', 'time_spend_company', 'Work_accident',\n",
    "        'promotion_last_5years','salary']]\n",
    "y=data['left']\n",
    "\n",
    "# Import train_test_split function\n",
    "from sklearn.model_selection import train_test_split\n",
    "\n",
    "# Split dataset into training set and test set\n",
    "X_train, X_test, y_train, y_test = train_test_split(X, y, test_size=0.3, random_state=42)  # 70% training and 30% test"
   ]
  },
  {
   "cell_type": "markdown",
   "id": "1d061555",
   "metadata": {},
   "source": [
    "#### Build Classification Model\n",
    "First, import the MLPClassifier module and create MLP Classifier object using MLPClassifier() function. Then, fit your model on the train set using fit() and perform prediction on the test set using predict().\n",
    "\n",
    "##### Parameters:\n",
    "- hidden_layer_sizes: it is a tuple where each element represents one layer and its value represents the number of neurons on each hidden layer.\n",
    "- learning_rate_init: It used to controls the step-size in updating the weights.\n",
    "- activation: Activation function for the hidden layer. Examples, identity, logistic, tanh, and relu. by default, relu is used as an activation function.\n",
    "- random_state: It defines the random number for weights and bias initialization. \n",
    "- verbose: It used to print progress messages to standard output."
   ]
  },
  {
   "cell_type": "code",
   "execution_count": 6,
   "id": "3ca8a46b",
   "metadata": {},
   "outputs": [
    {
     "name": "stdout",
     "output_type": "stream",
     "text": [
      "Iteration 1, loss = 0.58375699\n",
      "Iteration 2, loss = 0.55089476\n",
      "Iteration 3, loss = 0.53811793\n",
      "Iteration 4, loss = 0.51521772\n",
      "Iteration 5, loss = 0.50091513\n",
      "Iteration 6, loss = 0.50279914\n",
      "Iteration 7, loss = 0.47967376\n",
      "Iteration 8, loss = 0.48207220\n",
      "Iteration 9, loss = 0.48021354\n",
      "Iteration 10, loss = 0.47412735\n",
      "Iteration 11, loss = 0.47203837\n",
      "Iteration 12, loss = 0.46928072\n",
      "Iteration 13, loss = 0.45686180\n",
      "Iteration 14, loss = 0.45709884\n",
      "Iteration 15, loss = 0.45132223\n",
      "Iteration 16, loss = 0.46630415\n",
      "Iteration 17, loss = 0.45162435\n",
      "Iteration 18, loss = 0.46152781\n",
      "Iteration 19, loss = 0.45317280\n",
      "Iteration 20, loss = 0.45251283\n",
      "Iteration 21, loss = 0.46049935\n",
      "Iteration 22, loss = 0.45274210\n",
      "Iteration 23, loss = 0.45780399\n",
      "Iteration 24, loss = 0.45557925\n",
      "Iteration 25, loss = 0.45298486\n",
      "Iteration 26, loss = 0.44800479\n",
      "Iteration 27, loss = 0.44150279\n",
      "Iteration 28, loss = 0.43542267\n",
      "Iteration 29, loss = 0.42998854\n",
      "Iteration 30, loss = 0.45012144\n",
      "Iteration 31, loss = 0.43029912\n",
      "Iteration 32, loss = 0.43634880\n",
      "Iteration 33, loss = 0.40753539\n",
      "Iteration 34, loss = 0.38134546\n",
      "Iteration 35, loss = 0.37172246\n",
      "Iteration 36, loss = 0.31251239\n",
      "Iteration 37, loss = 0.28918613\n",
      "Iteration 38, loss = 0.28283210\n",
      "Iteration 39, loss = 0.27833283\n",
      "Iteration 40, loss = 0.27272805\n",
      "Iteration 41, loss = 0.27923282\n",
      "Iteration 42, loss = 0.26109321\n",
      "Iteration 43, loss = 0.26094732\n",
      "Iteration 44, loss = 0.27726581\n",
      "Iteration 45, loss = 0.27587586\n",
      "Iteration 46, loss = 0.26246829\n",
      "Iteration 47, loss = 0.25809416\n",
      "Iteration 48, loss = 0.25485387\n",
      "Iteration 49, loss = 0.26039751\n",
      "Iteration 50, loss = 0.25603374\n",
      "Iteration 51, loss = 0.25442411\n",
      "Iteration 52, loss = 0.26750719\n",
      "Iteration 53, loss = 0.25383941\n",
      "Iteration 54, loss = 0.26890198\n",
      "Iteration 55, loss = 0.25243726\n",
      "Iteration 56, loss = 0.24835140\n",
      "Iteration 57, loss = 0.25112074\n",
      "Iteration 58, loss = 0.26393526\n",
      "Iteration 59, loss = 0.24959074\n",
      "Iteration 60, loss = 0.24945577\n",
      "Iteration 61, loss = 0.25030818\n",
      "Iteration 62, loss = 0.24482235\n",
      "Iteration 63, loss = 0.24760731\n",
      "Iteration 64, loss = 0.24232444\n",
      "Iteration 65, loss = 0.25120470\n",
      "Iteration 66, loss = 0.23956221\n",
      "Iteration 67, loss = 0.24070583\n",
      "Iteration 68, loss = 0.24001137\n",
      "Iteration 69, loss = 0.24213452\n",
      "Iteration 70, loss = 0.24363731\n",
      "Iteration 71, loss = 0.24133572\n",
      "Iteration 72, loss = 0.24019882\n",
      "Iteration 73, loss = 0.25667863\n",
      "Iteration 74, loss = 0.24141876\n",
      "Iteration 75, loss = 0.24045123\n",
      "Iteration 76, loss = 0.24324913\n",
      "Iteration 77, loss = 0.24052475\n",
      "Training loss did not improve more than tol=0.000100 for 10 consecutive epochs. Stopping.\n"
     ]
    },
    {
     "data": {
      "text/plain": [
       "MLPClassifier(hidden_layer_sizes=(6, 5), learning_rate_init=0.01,\n",
       "              random_state=5, verbose=True)"
      ]
     },
     "execution_count": 6,
     "metadata": {},
     "output_type": "execute_result"
    }
   ],
   "source": [
    "# Import MLPClassifer \n",
    "from sklearn.neural_network import MLPClassifier\n",
    "\n",
    "# Create model object\n",
    "clf = MLPClassifier(hidden_layer_sizes=(6,5),\n",
    "                    random_state=5,\n",
    "                    verbose=True,\n",
    "                    learning_rate_init=0.01)\n",
    "\n",
    "# Fit data onto the model\n",
    "clf.fit(X_train,y_train)"
   ]
  },
  {
   "cell_type": "markdown",
   "id": "75e8909d",
   "metadata": {},
   "source": [
    "#### Make Prediction and Evaluate the Model"
   ]
  },
  {
   "cell_type": "code",
   "execution_count": 7,
   "id": "4edea911",
   "metadata": {},
   "outputs": [
    {
     "data": {
      "text/plain": [
       "0.9148888888888889"
      ]
     },
     "execution_count": 7,
     "metadata": {},
     "output_type": "execute_result"
    }
   ],
   "source": [
    "# Make prediction on test dataset\n",
    "ypred=clf.predict(X_test)\n",
    "\n",
    "# Import accuracy score \n",
    "from sklearn.metrics import accuracy_score\n",
    "\n",
    "# Calcuate accuracy\n",
    "accuracy_score(y_test,ypred)"
   ]
  },
  {
   "cell_type": "markdown",
   "id": "acb0f23d",
   "metadata": {},
   "source": [
    "### Using the TensorFlow library"
   ]
  },
  {
   "cell_type": "code",
   "execution_count": 1,
   "id": "0df04ffc",
   "metadata": {},
   "outputs": [],
   "source": [
    "# importing modules\n",
    "import tensorflow as tf\n",
    "import numpy as np\n",
    "from tensorflow.keras.models import Sequential\n",
    "from tensorflow.keras.layers import Flatten\n",
    "from tensorflow.keras.layers import Dense\n",
    "from tensorflow.keras.layers import Activation\n",
    "import matplotlib.pyplot as plt\n"
   ]
  },
  {
   "cell_type": "code",
   "execution_count": 2,
   "id": "c73381cc",
   "metadata": {},
   "outputs": [],
   "source": [
    "# Download the dataset\n",
    "(x_train, y_train), (x_test, y_test) = tf.keras.datasets.mnist.load_data()"
   ]
  },
  {
   "cell_type": "code",
   "execution_count": 3,
   "id": "35fb39e3",
   "metadata": {},
   "outputs": [],
   "source": [
    "# Cast the records into float values\n",
    "x_train = x_train.astype('float32')\n",
    "x_test = x_test.astype('float32')\n",
    "\n",
    "# normalize image pixel values by dividing by 255\n",
    "x_train = x_train / 255.\n",
    "x_test = x_test / 255.\n"
   ]
  },
  {
   "cell_type": "code",
   "execution_count": 4,
   "id": "97ce1d41",
   "metadata": {},
   "outputs": [
    {
     "name": "stdout",
     "output_type": "stream",
     "text": [
      "Feature matrix: (60000, 28, 28)\n",
      "Target matrix: (10000, 28, 28)\n",
      "Feature matrix: (60000,)\n",
      "Target matrix: (10000,)\n"
     ]
    }
   ],
   "source": [
    "print(\"Feature matrix:\", x_train.shape)\n",
    "print(\"Target matrix:\", x_test.shape)\n",
    "print(\"Feature matrix:\", y_train.shape)\n",
    "print(\"Target matrix:\", y_test.shape)\n"
   ]
  },
  {
   "cell_type": "markdown",
   "id": "6b7295c3",
   "metadata": {},
   "source": [
    "- The Sequential model allows to create models layer-by-layer as we need in a multi-layer perceptron and is limited to single-input, single-output stacks of layers.\n",
    "- Flatten flattens the input provided without affecting the batch size. \n",
    "- Activation is for using the sigmoid activation function.\n",
    "- The first two Dense layers are used to make a fully connected model and are the hidden layers.\n",
    "- The last Dense layer is the output layer which contains 10 neurons that decide which category the image belongs to."
   ]
  },
  {
   "cell_type": "code",
   "execution_count": 5,
   "id": "d2f51693",
   "metadata": {},
   "outputs": [],
   "source": [
    "# Form the Input, hidden, and output layers\n",
    "\n",
    "model = Sequential([\n",
    "    # reshape 28 row * 28 column data to 28*28 rows\n",
    "    Flatten(input_shape=(28, 28)),\n",
    "    # dense layer 1\n",
    "    Dense(256, activation='sigmoid'),\n",
    "    # dense layer 2\n",
    "    Dense(128, activation='sigmoid'),\n",
    "    # output layer\n",
    "    Dense(10, activation='sigmoid'),\n",
    "])\n"
   ]
  },
  {
   "cell_type": "code",
   "execution_count": 6,
   "id": "63e8cda9",
   "metadata": {},
   "outputs": [],
   "source": [
    "# Compile the model\n",
    "\n",
    "model.compile(optimizer='adam',loss='sparse_categorical_crossentropy',\n",
    "              metrics=['accuracy'])\n"
   ]
  },
  {
   "cell_type": "markdown",
   "id": "6fdb51f0",
   "metadata": {},
   "source": [
    "- Epochs tell us the number of times the model will be trained in forwarding and backward passes.\n",
    "- Batch Size represents the number of samples, If it’s unspecified, batch_size will default to 32.\n",
    "- Validation Split is a float value between 0 and 1. The model will set apart this fraction of the training data to evaluate the loss and any model metrics at the end of each epoch. (The model will not be trained on this data)"
   ]
  },
  {
   "cell_type": "code",
   "execution_count": 7,
   "id": "8c895ab9",
   "metadata": {},
   "outputs": [
    {
     "name": "stdout",
     "output_type": "stream",
     "text": [
      "Epoch 1/10\n",
      "24/24 [==============================] - 1s 34ms/step - loss: 2.1687 - accuracy: 0.3558 - val_loss: 1.8913 - val_accuracy: 0.6820\n",
      "Epoch 2/10\n",
      "24/24 [==============================] - 1s 27ms/step - loss: 1.5405 - accuracy: 0.7341 - val_loss: 1.1720 - val_accuracy: 0.8081\n",
      "Epoch 3/10\n",
      "24/24 [==============================] - 1s 27ms/step - loss: 0.9628 - accuracy: 0.8209 - val_loss: 0.7391 - val_accuracy: 0.8606\n",
      "Epoch 4/10\n",
      "24/24 [==============================] - 1s 27ms/step - loss: 0.6503 - accuracy: 0.8661 - val_loss: 0.5280 - val_accuracy: 0.8897\n",
      "Epoch 5/10\n",
      "24/24 [==============================] - 1s 28ms/step - loss: 0.4929 - accuracy: 0.8889 - val_loss: 0.4194 - val_accuracy: 0.9031\n",
      "Epoch 6/10\n",
      "24/24 [==============================] - 1s 26ms/step - loss: 0.4061 - accuracy: 0.9027 - val_loss: 0.3571 - val_accuracy: 0.9119\n",
      "Epoch 7/10\n",
      "24/24 [==============================] - 1s 28ms/step - loss: 0.3534 - accuracy: 0.9106 - val_loss: 0.3174 - val_accuracy: 0.9182\n",
      "Epoch 8/10\n",
      "24/24 [==============================] - 1s 32ms/step - loss: 0.3185 - accuracy: 0.9170 - val_loss: 0.2918 - val_accuracy: 0.9236\n",
      "Epoch 9/10\n",
      "24/24 [==============================] - 1s 28ms/step - loss: 0.2920 - accuracy: 0.9219 - val_loss: 0.2689 - val_accuracy: 0.9286\n",
      "Epoch 10/10\n",
      "24/24 [==============================] - 1s 30ms/step - loss: 0.2714 - accuracy: 0.9261 - val_loss: 0.2538 - val_accuracy: 0.9310\n"
     ]
    },
    {
     "data": {
      "text/plain": [
       "<tensorflow.python.keras.callbacks.History at 0x25081d1d4f0>"
      ]
     },
     "execution_count": 7,
     "metadata": {},
     "output_type": "execute_result"
    }
   ],
   "source": [
    "# Fit the model\n",
    "\n",
    "model.fit(x_train, y_train, epochs=10,\n",
    "          batch_size=2000,\n",
    "          validation_split=0.2)\n"
   ]
  },
  {
   "cell_type": "code",
   "execution_count": null,
   "id": "bc8bc5a3",
   "metadata": {},
   "outputs": [],
   "source": [
    "# Find Accuracy of the model\n",
    "\n",
    "results = model.evaluate(x_test, y_test, verbose = 0)\n",
    "print('test loss, test acc:', results)\n"
   ]
  },
  {
   "cell_type": "markdown",
   "id": "16c1dd04",
   "metadata": {},
   "source": [
    "# Batch Normalization"
   ]
  },
  {
   "cell_type": "markdown",
   "id": "581b8ce1",
   "metadata": {},
   "source": [
    "In 1998, Yan LeCun in his famous paper Effiecient BackProp highlighted the importance of normalizing the inputs. Batch normalization is a technique for training very deep neural networks that normalizes the contributions to a layer for every mini-batch. This has the impact of settling the learning process and drastically decreasing the number of training epochs required to train deep neural networks.\n"
   ]
  },
  {
   "cell_type": "code",
   "execution_count": 19,
   "id": "8fa99f28",
   "metadata": {},
   "outputs": [],
   "source": [
    "from tensorflow.keras.layers import Dense, BatchNormalization\n",
    "\n",
    "model = Sequential([\n",
    "    Flatten(input_shape=(28, 28)),\n",
    "    # dense layer 1\n",
    "    Dense(256, activation='sigmoid'),\n",
    "    BatchNormalization(),\n",
    "    # dense layer 2\n",
    "    Dense(128, activation='sigmoid'),\n",
    "    BatchNormalization(),\n",
    "    # output layer\n",
    "    Dense(10, activation='sigmoid'),\n",
    "])\n"
   ]
  },
  {
   "cell_type": "markdown",
   "id": "4bcc5378",
   "metadata": {},
   "source": [
    "## Assignment"
   ]
  },
  {
   "cell_type": "markdown",
   "id": "921ad4d2",
   "metadata": {},
   "source": [
    "### Wine dataset\n",
    "\n",
    "These data are the results of a chemical analysis of wines grown in the same region in Italy but derived from three different cultivars. The analysis determined the quantities of 13 constituents found in each of the three types of wines.\n",
    "\n",
    "##### Attribute information\n",
    "- Class: target, the category of cultivator, discrete, values: 1, 2, 3\n",
    "- Alcohol: the alcohol content in the wine, numerical\n",
    "- Malic acid: the malic acid content in the wine, numerical\n",
    "- Ash: the ash content in the wine, numerical\n",
    "- Alcalinity of ash: the alcanity of ash present in the wine, numerical\n",
    "- Magnesium: the magnesium content in the wine, numerical\n",
    "- Total phenols: the total amount of phenols in the wine, numerical\n",
    "- Flavanoids: the flavanoids content in the wine, numerical\n",
    "- Nonflavanoid phenols: the content of nonflavanoid phenols in the wine, numerical\n",
    "- Proanthocyanins: the content of proanthocyanins in the wine, numerical\n",
    "- Hue: the amount of hue added to the wine, numerical\n",
    "- OD280/OD315 of diluted wines: a standard measure of the quality of wine, numerical\n",
    "- Proline: the proline content in the wine, numerical"
   ]
  },
  {
   "cell_type": "markdown",
   "id": "ded1a169",
   "metadata": {},
   "source": [
    "##  Question 1\n",
    "- Perform the required preprocessing , 70,30 split and build a classifier using the Multi-Layer Perceptron Classifier model. Use three layers with the same number of neurons as there are features.\n",
    "- Tabulate the accuracy, precision, recall and F1-score.\n",
    "- Display the MLP weights and biases after training your model."
   ]
  },
  {
   "cell_type": "markdown",
   "id": "868aed60",
   "metadata": {},
   "source": [
    "###  The CIFAR-10 dataset\n",
    "\n",
    "The CIFAR-10 dataset consists of 60000 32x32 colour images in 10 classes, with 6000 images per class. There are 50000 training images and 10000 test images."
   ]
  },
  {
   "cell_type": "markdown",
   "id": "3ecd4545",
   "metadata": {},
   "source": [
    "##  Question 2\n",
    "\n",
    "- Using CIFAR-10 dataset, build a Multi-Layer Perceptron Classifier model both with and without batch normalization.\n",
    "- Tabulate the accuracy, precision, recall and F1-score.\n"
   ]
  },
  {
   "cell_type": "code",
   "execution_count": null,
   "id": "e8347088",
   "metadata": {},
   "outputs": [],
   "source": []
  }
 ],
 "metadata": {
  "kernelspec": {
   "display_name": "Python 3",
   "language": "python",
   "name": "python3"
  },
  "language_info": {
   "codemirror_mode": {
    "name": "ipython",
    "version": 3
   },
   "file_extension": ".py",
   "mimetype": "text/x-python",
   "name": "python",
   "nbconvert_exporter": "python",
   "pygments_lexer": "ipython3",
   "version": "3.8.8"
  }
 },
 "nbformat": 4,
 "nbformat_minor": 5
}
